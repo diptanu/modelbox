{
 "cells": [
  {
   "cell_type": "markdown",
   "id": "44b549f8",
   "metadata": {},
   "source": [
    "# Pytorch Lightning Tutorial\n",
    "This tutorial demonstrates integration of ModelBox with PyTorch Lightning."
   ]
  },
  {
   "cell_type": "code",
   "execution_count": 1,
   "id": "a941d19c",
   "metadata": {},
   "outputs": [
    {
     "name": "stderr",
     "output_type": "stream",
     "text": [
      "/home/diptanuc/Src/miniconda3/lib/python3.9/site-packages/torch/cuda/__init__.py:83: UserWarning: CUDA initialization: Unexpected error from cudaGetDeviceCount(). Did you run some cuda functions before calling NumCudaDevices() that might have already set an error? Error 804: forward compatibility was attempted on non supported HW (Triggered internally at  ../c10/cuda/CUDAFunctions.cpp:109.)\n",
      "  return torch._C._cuda_getDeviceCount() > 0\n",
      "/tmp/ipykernel_172281/3666529220.py:7: DeprecationWarning: Importing display from IPython.core.display is deprecated since IPython 7.14, please import from IPython display\n",
      "  from IPython.core.display import display\n"
     ]
    }
   ],
   "source": [
    "import os\n",
    "\n",
    "import pandas as pd\n",
    "import seaborn as sn\n",
    "import torch\n",
    "import random\n",
    "from IPython.core.display import display\n",
    "from pytorch_lightning import LightningModule, Trainer\n",
    "from pytorch_lightning.callbacks.progress import TQDMProgressBar\n",
    "from pytorch_lightning.loggers import CSVLogger\n",
    "from torch import nn\n",
    "from torch.nn import functional as F\n",
    "from torch.utils.data import DataLoader, random_split\n",
    "from torchmetrics import Accuracy\n",
    "from torchvision import transforms\n",
    "from torchvision.datasets import MNIST\n",
    "from modelbox.lightning_logger import ModelBoxLogger\n",
    "\n",
    "PATH_DATASETS = os.environ.get(\"PATH_DATASETS\", \".\")\n",
    "BATCH_SIZE = 256 if torch.cuda.is_available() else 64"
   ]
  },
  {
   "cell_type": "code",
   "execution_count": 2,
   "id": "698e1cca",
   "metadata": {},
   "outputs": [],
   "source": [
    "class MNISTModel(LightningModule):\n",
    "    def __init__(self, data_dir=PATH_DATASETS, hidden_size=64, learning_rate=2e-4):\n",
    "        super().__init__()\n",
    "        self.l1 = torch.nn.Linear(28 * 28, 10)\n",
    "        \n",
    "        self.data_dir = data_dir\n",
    "        self.hidden_size = hidden_size\n",
    "        self.learning_rate = learning_rate\n",
    "        self.transform = transforms.Compose(\n",
    "            [\n",
    "                transforms.ToTensor(),\n",
    "                transforms.Normalize((0.1307,), (0.3081,)),\n",
    "            ]\n",
    "        )\n",
    "        self.val_accuracy = Accuracy()\n",
    "        self.test_accuracy = Accuracy()\n",
    "        self.save_hyperparameters()\n",
    "\n",
    "    def forward(self, x):\n",
    "        return torch.relu(self.l1(x.view(x.size(0), -1)))\n",
    "\n",
    "    def training_step(self, batch, batch_nb):\n",
    "        x, y = batch\n",
    "        loss = F.cross_entropy(self(x), y)\n",
    "        return loss\n",
    "    \n",
    "    def validation_step(self, batch, batch_idx):\n",
    "        x, y = batch\n",
    "        logits = self(x)\n",
    "        loss = F.cross_entropy(logits, y)\n",
    "        preds = torch.argmax(logits, dim=1)\n",
    "        self.val_accuracy.update(preds, y)\n",
    "\n",
    "        self.log(\"val_loss\", loss, prog_bar=True)\n",
    "        self.log(\"val_acc\", self.val_accuracy, prog_bar=True)\n",
    "\n",
    "    def test_step(self, batch, batch_idx):\n",
    "        x, y = batch\n",
    "        logits = self(x)\n",
    "        loss = F.cross_entropy(logits, y)\n",
    "        preds = torch.argmax(logits, dim=1)\n",
    "        self.test_accuracy.update(preds, y)\n",
    "\n",
    "        self.log(\"test_loss\", loss, prog_bar=True)\n",
    "        self.log(\"test_acc\", self.test_accuracy, prog_bar=True)\n",
    "\n",
    "    def configure_optimizers(self):\n",
    "        return torch.optim.Adam(self.parameters(), lr=0.02)\n",
    "\n",
    "    def prepare_data(self):\n",
    "        MNIST(self.data_dir, train=True, download=True)\n",
    "        MNIST(self.data_dir, train=False, download=True)\n",
    "\n",
    "    def setup(self, stage=None):\n",
    "        if stage == \"fit\" or stage is None:\n",
    "            mnist_full = MNIST(self.data_dir, train=True, transform=self.transform)\n",
    "            self.mnist_train, self.mnist_val = random_split(mnist_full, [55000, 5000])\n",
    "\n",
    "        # Assign test dataset for use in dataloader(s)\n",
    "        if stage == \"test\" or stage is None:\n",
    "            self.mnist_test = MNIST(self.data_dir, train=False, transform=self.transform)\n",
    "\n",
    "    def train_dataloader(self):\n",
    "        return DataLoader(self.mnist_train, batch_size=BATCH_SIZE)\n",
    "\n",
    "    def val_dataloader(self):\n",
    "        return DataLoader(self.mnist_val, batch_size=BATCH_SIZE)\n",
    "\n",
    "    def test_dataloader(self):\n",
    "        return DataLoader(self.mnist_test, batch_size=BATCH_SIZE)\n",
    "\n"
   ]
  },
  {
   "cell_type": "code",
   "execution_count": 3,
   "id": "b03b853b",
   "metadata": {},
   "outputs": [
    {
     "name": "stderr",
     "output_type": "stream",
     "text": [
      "GPU available: False, used: False\n",
      "TPU available: False, using: 0 TPU cores\n",
      "IPU available: False, using: 0 IPUs\n",
      "HPU available: False, using: 0 HPUs\n",
      "modelbox - attempting to create a project\n",
      "modelbox - created experiment with id: af724ad2dd984d646c0af24fd0a42bc6c9c6c745\n",
      "\n",
      "  | Name          | Type     | Params\n",
      "-------------------------------------------\n",
      "0 | l1            | Linear   | 7.9 K \n",
      "1 | val_accuracy  | Accuracy | 0     \n",
      "2 | test_accuracy | Accuracy | 0     \n",
      "-------------------------------------------\n",
      "7.9 K     Trainable params\n",
      "0         Non-trainable params\n",
      "7.9 K     Total params\n",
      "0.031     Total estimated model params size (MB)\n",
      "modelbox - attempting to create a project\n",
      "modelbox - created experiment with id: af724ad2dd984d646c0af24fd0a42bc6c9c6c745\n",
      "modelbox - log hpraams params \"data_dir\":      .\n",
      "\"hidden_size\":   64\n",
      "\"learning_rate\": 0.0002\n",
      "modelbox - log hpraams metrics None\n"
     ]
    },
    {
     "data": {
      "application/vnd.jupyter.widget-view+json": {
       "model_id": "",
       "version_major": 2,
       "version_minor": 0
      },
      "text/plain": [
       "Sanity Checking: 0it [00:00, ?it/s]"
      ]
     },
     "metadata": {},
     "output_type": "display_data"
    },
    {
     "name": "stderr",
     "output_type": "stream",
     "text": [
      "/home/diptanuc/Src/miniconda3/lib/python3.9/site-packages/pytorch_lightning/trainer/connectors/data_connector.py:240: PossibleUserWarning: The dataloader, val_dataloader 0, does not have many workers which may be a bottleneck. Consider increasing the value of the `num_workers` argument` (try 16 which is the number of cpus on this machine) in the `DataLoader` init to improve performance.\n",
      "  rank_zero_warn(\n",
      "/home/diptanuc/Src/miniconda3/lib/python3.9/site-packages/pytorch_lightning/trainer/connectors/data_connector.py:240: PossibleUserWarning: The dataloader, train_dataloader, does not have many workers which may be a bottleneck. Consider increasing the value of the `num_workers` argument` (try 16 which is the number of cpus on this machine) in the `DataLoader` init to improve performance.\n",
      "  rank_zero_warn(\n"
     ]
    },
    {
     "data": {
      "application/vnd.jupyter.widget-view+json": {
       "model_id": "a169ce630dcc43c7a1ed3da510f2ca4b",
       "version_major": 2,
       "version_minor": 0
      },
      "text/plain": [
       "Training: 0it [00:00, ?it/s]"
      ]
     },
     "metadata": {},
     "output_type": "display_data"
    },
    {
     "data": {
      "application/vnd.jupyter.widget-view+json": {
       "model_id": "",
       "version_major": 2,
       "version_minor": 0
      },
      "text/plain": [
       "Validation: 0it [00:00, ?it/s]"
      ]
     },
     "metadata": {},
     "output_type": "display_data"
    },
    {
     "name": "stderr",
     "output_type": "stream",
     "text": [
      "modelbox - log metrics, step: 937, key: val_loss, metrics: MetricValue(step=937, wallclock_time=1659596673, value=16.853092193603516)\n",
      "modelbox - log metrics, step: 937, key: val_acc, metrics: MetricValue(step=937, wallclock_time=1659596673, value=0.6092000007629395)\n"
     ]
    },
    {
     "data": {
      "application/vnd.jupyter.widget-view+json": {
       "model_id": "",
       "version_major": 2,
       "version_minor": 0
      },
      "text/plain": [
       "Validation: 0it [00:00, ?it/s]"
      ]
     },
     "metadata": {},
     "output_type": "display_data"
    },
    {
     "name": "stderr",
     "output_type": "stream",
     "text": [
      "modelbox - log metrics, step: 1875, key: val_loss, metrics: MetricValue(step=1875, wallclock_time=1659596677, value=23.811155319213867)\n",
      "modelbox - log metrics, step: 1875, key: val_acc, metrics: MetricValue(step=1875, wallclock_time=1659596677, value=0.5605999827384949)\n"
     ]
    },
    {
     "data": {
      "application/vnd.jupyter.widget-view+json": {
       "model_id": "",
       "version_major": 2,
       "version_minor": 0
      },
      "text/plain": [
       "Validation: 0it [00:00, ?it/s]"
      ]
     },
     "metadata": {},
     "output_type": "display_data"
    },
    {
     "name": "stderr",
     "output_type": "stream",
     "text": [
      "modelbox - log metrics, step: 2813, key: val_loss, metrics: MetricValue(step=2813, wallclock_time=1659596682, value=29.673599243164062)\n",
      "modelbox - log metrics, step: 2813, key: val_acc, metrics: MetricValue(step=2813, wallclock_time=1659596682, value=0.5217999815940857)\n",
      "/home/diptanuc/Src/miniconda3/lib/python3.9/site-packages/pytorch_lightning/trainer/trainer.py:1444: UserWarning: `.test(ckpt_path=None)` was called without a model. The best model of the previous `fit` call will be used. You can pass `test(ckpt_path='best')` to use and best model checkpoint and avoid this warning or `ckpt_path=trainer.checkpoint_callback.last_model_path` to use the last model.\n",
      "  rank_zero_warn(\n",
      "Restoring states from the checkpoint path at /home/diptanuc/Projects/modelbox/tutorials/lid_quartznet-9345/0.1/checkpoints/epoch=2-step=2814.ckpt\n",
      "modelbox - attempting to create a project\n",
      "modelbox - created experiment with id: af724ad2dd984d646c0af24fd0a42bc6c9c6c745\n",
      "modelbox - log hpraams params \"data_dir\":      .\n",
      "\"hidden_size\":   64\n",
      "\"learning_rate\": 0.0002\n",
      "modelbox - log hpraams metrics None\n",
      "Loaded model weights from checkpoint at /home/diptanuc/Projects/modelbox/tutorials/lid_quartznet-9345/0.1/checkpoints/epoch=2-step=2814.ckpt\n",
      "/home/diptanuc/Src/miniconda3/lib/python3.9/site-packages/pytorch_lightning/trainer/connectors/data_connector.py:240: PossibleUserWarning: The dataloader, test_dataloader 0, does not have many workers which may be a bottleneck. Consider increasing the value of the `num_workers` argument` (try 16 which is the number of cpus on this machine) in the `DataLoader` init to improve performance.\n",
      "  rank_zero_warn(\n"
     ]
    },
    {
     "data": {
      "application/vnd.jupyter.widget-view+json": {
       "model_id": "8e9ef1c2fcdd4ae4b02a390851c17afe",
       "version_major": 2,
       "version_minor": 0
      },
      "text/plain": [
       "Testing: 0it [00:00, ?it/s]"
      ]
     },
     "metadata": {},
     "output_type": "display_data"
    },
    {
     "name": "stderr",
     "output_type": "stream",
     "text": [
      "modelbox - log metrics, step: 2814, key: test_loss, metrics: MetricValue(step=2814, wallclock_time=1659596683, value=28.46238136291504)\n",
      "modelbox - log metrics, step: 2814, key: test_acc, metrics: MetricValue(step=2814, wallclock_time=1659596683, value=0.531000018119812)\n"
     ]
    },
    {
     "data": {
      "text/html": [
       "<pre style=\"white-space:pre;overflow-x:auto;line-height:normal;font-family:Menlo,'DejaVu Sans Mono',consolas,'Courier New',monospace\">┏━━━━━━━━━━━━━━━━━━━━━━━━━━━┳━━━━━━━━━━━━━━━━━━━━━━━━━━━┓\n",
       "┃<span style=\"font-weight: bold\">        Test metric        </span>┃<span style=\"font-weight: bold\">       DataLoader 0        </span>┃\n",
       "┡━━━━━━━━━━━━━━━━━━━━━━━━━━━╇━━━━━━━━━━━━━━━━━━━━━━━━━━━┩\n",
       "│<span style=\"color: #008080; text-decoration-color: #008080\">         test_acc          </span>│<span style=\"color: #800080; text-decoration-color: #800080\">     0.531000018119812     </span>│\n",
       "│<span style=\"color: #008080; text-decoration-color: #008080\">         test_loss         </span>│<span style=\"color: #800080; text-decoration-color: #800080\">     28.46238136291504     </span>│\n",
       "└───────────────────────────┴───────────────────────────┘\n",
       "</pre>\n"
      ],
      "text/plain": [
       "┏━━━━━━━━━━━━━━━━━━━━━━━━━━━┳━━━━━━━━━━━━━━━━━━━━━━━━━━━┓\n",
       "┃\u001b[1m \u001b[0m\u001b[1m       Test metric       \u001b[0m\u001b[1m \u001b[0m┃\u001b[1m \u001b[0m\u001b[1m      DataLoader 0       \u001b[0m\u001b[1m \u001b[0m┃\n",
       "┡━━━━━━━━━━━━━━━━━━━━━━━━━━━╇━━━━━━━━━━━━━━━━━━━━━━━━━━━┩\n",
       "│\u001b[36m \u001b[0m\u001b[36m        test_acc         \u001b[0m\u001b[36m \u001b[0m│\u001b[35m \u001b[0m\u001b[35m    0.531000018119812    \u001b[0m\u001b[35m \u001b[0m│\n",
       "│\u001b[36m \u001b[0m\u001b[36m        test_loss        \u001b[0m\u001b[36m \u001b[0m│\u001b[35m \u001b[0m\u001b[35m    28.46238136291504    \u001b[0m\u001b[35m \u001b[0m│\n",
       "└───────────────────────────┴───────────────────────────┘\n"
      ]
     },
     "metadata": {},
     "output_type": "display_data"
    },
    {
     "data": {
      "text/plain": [
       "[{'test_loss': 28.46238136291504, 'test_acc': 0.531000018119812}]"
      ]
     },
     "execution_count": 3,
     "metadata": {},
     "output_type": "execute_result"
    }
   ],
   "source": [
    "mnist_model = MNISTModel()\n",
    "\n",
    "train_ds = MNIST(PATH_DATASETS, train=True, download=True, transform=transforms.ToTensor())\n",
    "train_loader = DataLoader(train_ds, batch_size=BATCH_SIZE)\n",
    "\n",
    "# Intialize ModelBoxLogger\n",
    "experiment_name = f\"lid_quartznet-{random.randint(1, 10000)}\"\n",
    "mbox_logger = ModelBoxLogger(\"langtech\", experiment_name, \"owner@pytorch.com\")\n",
    "\n",
    "trainer = Trainer(\n",
    "    accelerator=\"auto\",\n",
    "    devices=1 if torch.cuda.is_available() else None, \n",
    "    max_epochs=3,\n",
    "    logger=[mbox_logger],\n",
    "    callbacks=[TQDMProgressBar(refresh_rate=20)],\n",
    ")\n",
    "\n",
    "trainer.fit(mnist_model, train_loader)\n",
    "trainer.test()\n"
   ]
  },
  {
   "cell_type": "code",
   "execution_count": 5,
   "id": "e8c94f9b",
   "metadata": {},
   "outputs": [],
   "source": [
    "from modelbox.modelbox import ModelBoxClient\n",
    "client = ModelBoxClient(addr=\"localhost:8085\")\n"
   ]
  },
  {
   "cell_type": "markdown",
   "id": "ba7cedde",
   "metadata": {},
   "source": [
    "Once an experiment is logged into ModelBox from a lightning trainer, it can then be accessed via the client API."
   ]
  },
  {
   "cell_type": "code",
   "execution_count": 10,
   "id": "8d676175",
   "metadata": {},
   "outputs": [
    {
     "data": {
      "text/plain": [
       "{'hyperparams': fields {\n",
       "   key: \"data_dir\"\n",
       "   value {\n",
       "     string_value: \".\"\n",
       "   }\n",
       " }\n",
       " fields {\n",
       "   key: \"hidden_size\"\n",
       "   value {\n",
       "     number_value: 64.0\n",
       "   }\n",
       " }\n",
       " fields {\n",
       "   key: \"learning_rate\"\n",
       "   value {\n",
       "     number_value: 0.0002\n",
       "   }\n",
       " }}"
      ]
     },
     "execution_count": 10,
     "metadata": {},
     "output_type": "execute_result"
    }
   ],
   "source": [
    "client.list_metadata('af724ad2dd984d646c0af24fd0a42bc6c9c6c745').metadata"
   ]
  },
  {
   "cell_type": "code",
   "execution_count": 9,
   "id": "332c44f9",
   "metadata": {},
   "outputs": [
    {
     "data": {
      "text/plain": [
       "{'val_loss': Metrics(key='val_loss', values=[[MetricValue(step=937, wallclock_time=1659596673, value=16.853092193603516), MetricValue(step=1875, wallclock_time=1659596677, value=23.811155319213867), MetricValue(step=2813, wallclock_time=1659596682, value=29.673599243164062)]]),\n",
       " 'val_acc': Metrics(key='val_acc', values=[[MetricValue(step=937, wallclock_time=1659596673, value=0.6092000007629395), MetricValue(step=1875, wallclock_time=1659596677, value=0.5605999827384949), MetricValue(step=2813, wallclock_time=1659596682, value=0.5217999815940857)]]),\n",
       " 'test_acc': Metrics(key='test_acc', values=[[MetricValue(step=2814, wallclock_time=1659596683, value=0.531000018119812)]]),\n",
       " 'test_loss': Metrics(key='test_loss', values=[[MetricValue(step=2814, wallclock_time=1659596683, value=28.46238136291504)]])}"
      ]
     },
     "execution_count": 9,
     "metadata": {},
     "output_type": "execute_result"
    }
   ],
   "source": [
    "client.get_metrics('af724ad2dd984d646c0af24fd0a42bc6c9c6c745')"
   ]
  }
 ],
 "metadata": {
  "kernelspec": {
   "display_name": "Python 3 (ipykernel)",
   "language": "python",
   "name": "python3"
  },
  "language_info": {
   "codemirror_mode": {
    "name": "ipython",
    "version": 3
   },
   "file_extension": ".py",
   "mimetype": "text/x-python",
   "name": "python",
   "nbconvert_exporter": "python",
   "pygments_lexer": "ipython3",
   "version": "3.10.5"
  }
 },
 "nbformat": 4,
 "nbformat_minor": 5
}
