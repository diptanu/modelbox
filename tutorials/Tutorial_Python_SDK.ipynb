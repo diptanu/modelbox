{
 "cells": [
  {
   "cell_type": "markdown",
   "id": "6c4dae06",
   "metadata": {},
   "source": [
    "# Python SDK Tutorial\n",
    "This notebook explains how to use the Python SDK of ModelBox and explains the major concepts and how to use the API independent of any Deep Learning Framework. Please follow the PyTorch notebook to see how the SDK can be integrated with a PyTorch trainer. \n",
    "\n"
   ]
  },
  {
   "cell_type": "markdown",
   "id": "063f9e83-e9d5-4583-ac45-b1dc5a7c3bc1",
   "metadata": {},
   "source": [
    "## Install ModelBox SDK"
   ]
  },
  {
   "cell_type": "code",
   "execution_count": 25,
   "id": "46cfbb6a-951b-4c9c-8e78-4ccff15dfc79",
   "metadata": {
    "collapsed": true,
    "jupyter": {
     "outputs_hidden": true
    },
    "tags": []
   },
   "outputs": [
    {
     "name": "stdout",
     "output_type": "stream",
     "text": [
      "Requirement already satisfied: modelbox==0.0.4 in /opt/conda/lib/python3.10/site-packages (0.0.4)\n",
      "Requirement already satisfied: grpcio in /opt/conda/lib/python3.10/site-packages (1.49.1)\n",
      "Requirement already satisfied: grpcio-tools>=1.46.1 in /opt/conda/lib/python3.10/site-packages (from modelbox==0.0.4) (1.49.1)\n",
      "Requirement already satisfied: protobuf>=3.20.1 in /opt/conda/lib/python3.10/site-packages (from modelbox==0.0.4) (4.21.6)\n",
      "Requirement already satisfied: six>=1.5.2 in /opt/conda/lib/python3.10/site-packages (from grpcio) (1.16.0)\n",
      "Requirement already satisfied: setuptools in /opt/conda/lib/python3.10/site-packages (from grpcio-tools>=1.46.1->modelbox==0.0.4) (63.3.0)\n",
      "Note: you may need to restart the kernel to use updated packages.\n"
     ]
    }
   ],
   "source": [
    "pip install modelbox==0.0.4 grpcio"
   ]
  },
  {
   "cell_type": "markdown",
   "id": "631504a4",
   "metadata": {
    "tags": []
   },
   "source": [
    "## Initialize the ModelBox Client\n",
    "First, we initialize the client by pointing it to the address of the ModelBox Server"
   ]
  },
  {
   "cell_type": "code",
   "execution_count": 1,
   "id": "9c02d955",
   "metadata": {},
   "outputs": [],
   "source": [
    "from modelbox.modelbox import ModelBox, MLFramework, Artifact, ArtifactMime, MetricValue\n",
    "\n",
    "mbox = ModelBox(addr=\"172.21.0.2:8085\")"
   ]
  },
  {
   "cell_type": "markdown",
   "id": "a03eb91b",
   "metadata": {},
   "source": [
    "## Create an Experiment \n",
    "Once we have a client, we can start using it to create a new Experiment to train a model or track an existing pre-trained model. Let us first see how to create an experiment. We are going to create an experiment to train a Wav2Vec Model with Pytorch and store it in a namespace called *langtech*. If you are using an experiment management service like Weights and Biases or Nepute, you could associate the ID from that service with modelbox to create a lineage."
   ]
  },
  {
   "cell_type": "code",
   "execution_count": 2,
   "id": "b5a51e68",
   "metadata": {},
   "outputs": [
    {
     "data": {
      "text/plain": [
       "'e71a25a8d3d481463c281f083f5e2671ea2896bc'"
      ]
     },
     "execution_count": 2,
     "metadata": {},
     "output_type": "execute_result"
    }
   ],
   "source": [
    "experiment = mbox.new_experiment(\"wav2vec\", \"owner@pytorch.org\", \"langtech\", \"extern123\", MLFramework.PYTORCH)\n",
    "experiment.id"
   ]
  },
  {
   "cell_type": "markdown",
   "id": "7d810f5f",
   "metadata": {},
   "source": [
    "The above code is going to create a new experiment and give us an ID. You can list the experiments of a namespace by -"
   ]
  },
  {
   "cell_type": "code",
   "execution_count": 5,
   "id": "ecf2d8e5",
   "metadata": {},
   "outputs": [
    {
     "data": {
      "text/plain": [
       "ListExperimentsResponse(experiments=[Experiment(id='e71a25a8d3d481463c281f083f5e2671ea2896bc', name='wav2vec', owner='owner@pytorch.org', namespace='langtech', external_id='', created_at=seconds: 1663835847\n",
       ", updated_at=seconds: 1663835847\n",
       ", framework=<MLFramework.PYTORCH: 2>)])"
      ]
     },
     "execution_count": 5,
     "metadata": {},
     "output_type": "execute_result"
    }
   ],
   "source": [
    "mbox.list_experiments(namespace=\"langtech\")"
   ]
  },
  {
   "cell_type": "markdown",
   "id": "8926dae8",
   "metadata": {},
   "source": [
    "#### Adding metadata\n",
    "Metadata can be added to any of the objects in ModelBox after they have been created. For example, once an experiment is created, metadata can be added and listed at any stage -"
   ]
  },
  {
   "cell_type": "code",
   "execution_count": 8,
   "id": "8025ffb1",
   "metadata": {},
   "outputs": [
    {
     "data": {
      "text/plain": [
       "ListMetadataResponse(metadata={'foo/bar': number_value: 12\n",
       "})"
      ]
     },
     "execution_count": 8,
     "metadata": {},
     "output_type": "execute_result"
    }
   ],
   "source": [
    "experiment.update_metadata(\"foo/bar\", 12)\n",
    "experiment.metadata()"
   ]
  },
  {
   "cell_type": "markdown",
   "id": "774a768d",
   "metadata": {},
   "source": [
    "## Working with Checkpoints\n",
    "Once we have an experiment we can create model checkpoints from the trainers. Let's assume the file stored in assets/mnist_checkpoint1.pt is a checkpoint created by the trainer. We will now associate this checkpoint with ModelBox.\n",
    "\n",
    "We could either track the path of the checkpoint or upload the blob and let ModelBox store it in the configured blob store. The benefit of letting ModelBox store the checkpoint is that the trainer doesn't need to have access to the blob store directly. However, in some cases, it's more optimal to have the trainer store the blob directly when the path to IO to the blob store from the trainer is much faster."
   ]
  },
  {
   "cell_type": "code",
   "execution_count": 10,
   "id": "eb6323ac",
   "metadata": {},
   "outputs": [
    {
     "data": {
      "text/plain": [
       "'97f7fccf8d2d67aa78d7d58a86b5d938ddff9f38'"
      ]
     },
     "execution_count": 10,
     "metadata": {},
     "output_type": "execute_result"
    }
   ],
   "source": [
    "import os\n",
    "checkpoint_path = os.path.abspath('mnist_cnn_checkpoint1.pt')\n",
    "metrics = {'val_accu': 98.5, 'train_accu': 99.2}\n",
    "checkpoint = experiment.new_checkpoint(epoch=1, metrics=metrics)\n",
    "checkpoint.id"
   ]
  },
  {
   "cell_type": "markdown",
   "id": "489ea146",
   "metadata": {},
   "source": [
    "This returns us the checkpoint ID and tracks the path of the checkpoint created by the trainer.\n",
    "\n",
    "Now let's say that we also want ModelBox to store the checkpoint, we will simply set the flag `upload` in the above api"
   ]
  },
  {
   "cell_type": "code",
   "execution_count": 12,
   "id": "6a2ab84d",
   "metadata": {},
   "outputs": [],
   "source": [
    "#resp = checkpoint.upload_artifact(Artifact(path=checkpoint_path,mime_type=ArtifactMime.Checkpoint))"
   ]
  },
  {
   "cell_type": "markdown",
   "id": "783bd85b",
   "metadata": {},
   "source": [
    "Once checkpoints are created they can be listed by passing the experiment name"
   ]
  },
  {
   "cell_type": "code",
   "execution_count": 12,
   "id": "4daee87e",
   "metadata": {},
   "outputs": [
    {
     "data": {
      "text/plain": [
       "[Checkpoint(id='97f7fccf8d2d67aa78d7d58a86b5d938ddff9f38', experiment_id='e71a25a8d3d481463c281f083f5e2671ea2896bc', epoch=1, artifacts=[], metrics={})]"
      ]
     },
     "execution_count": 12,
     "metadata": {},
     "output_type": "execute_result"
    }
   ],
   "source": [
    "experiment.list_checkpoints()"
   ]
  },
  {
   "cell_type": "markdown",
   "id": "9c690dee",
   "metadata": {},
   "source": [
    "## Working with Models and ModelVersions\n",
    "\n",
    "Model objects describe tasks performed, metadata, which datasets are used to train, how to use the models during inference, etc. ModelVersions are trained instances of a model. So for example over time an English ASR(speech to text) model can have multiple model versions as they are trained with different datasets and such. \n",
    "\n",
    "We don't prescribe the granularity of Models and ModelVersions. If it's easier to create different Models every time a new model is trained with different hyperparameters and a single ModelVersion pointing to the model artifacts and all the metrics that is fine."
   ]
  },
  {
   "cell_type": "code",
   "execution_count": 5,
   "id": "0e9bbc1c",
   "metadata": {},
   "outputs": [
    {
     "data": {
      "text/plain": [
       "'93b7cf0bec10ff6d500a9273bc34ab7eff02eeca'"
      ]
     },
     "execution_count": 5,
     "metadata": {},
     "output_type": "execute_result"
    }
   ],
   "source": [
    "model = mbox.new_model(name='asr_en', owner='owner@owner.org', namespace='langtech', task='asr', description='ASR for english', metadata={'x': 'y'})\n",
    "model.id"
   ]
  },
  {
   "cell_type": "markdown",
   "id": "f4760fe7",
   "metadata": {},
   "source": [
    "In the same way a ModelVersion can be created by the client, and track the associated artifacts and metadata.\n"
   ]
  },
  {
   "cell_type": "code",
   "execution_count": 6,
   "id": "a48f0d9c",
   "metadata": {},
   "outputs": [
    {
     "data": {
      "text/plain": [
       "'0ae662556996e18f364a41b82cd1a4e043062687'"
      ]
     },
     "execution_count": 6,
     "metadata": {},
     "output_type": "execute_result"
    }
   ],
   "source": [
    "tags =[\"test\"]\n",
    "model_version = model.new_model_version(name=\"asr_en_july\", version=\"1\", description='ASR for english', metadata={'x': 'y'}, unique_tags=tags, artifacts=[], framework=MLFramework.PYTORCH)\n",
    "model_version.id"
   ]
  },
  {
   "cell_type": "markdown",
   "id": "26fe5d37",
   "metadata": {},
   "source": [
    "Once a modelversion is created we can upload the model and associate with the model version object."
   ]
  },
  {
   "cell_type": "code",
   "execution_count": 19,
   "id": "99487ba8",
   "metadata": {},
   "outputs": [
    {
     "data": {
      "text/plain": [
       "UploadArtifactResponse(id='5a0094ee34e88d826a84ef831444b152b9c2c91a')"
      ]
     },
     "execution_count": 19,
     "metadata": {},
     "output_type": "execute_result"
    }
   ],
   "source": [
    "model_path = './artifacts/mnist_cnn.pt'\n",
    "resp = model_version.upload_artifact(Artifact(parent=model_version.id, path=model_path, mime_type=ArtifactMime.Checkpoint))\n",
    "resp"
   ]
  },
  {
   "cell_type": "markdown",
   "id": "912b53a2",
   "metadata": {},
   "source": [
    "The model file can now be served by the file server built into Model Box to inference servers. Inference services can either use the language specific SDKs in Python, Rust or Go or call the GRPC `DownloadFile` API directly which streams the files."
   ]
  },
  {
   "cell_type": "markdown",
   "id": "293fe5be",
   "metadata": {},
   "source": [
    "> **_NOTE: Checkpoints Transforms to ModelVersions_** \n",
    "Usually in production engineers look at checkpoints/models created during training and select a version which has the best metrics. Once we have the worker infrastructure in place, we will create APIs which to do automatic convertion of checkpoints to ModelVersions."
   ]
  },
  {
   "cell_type": "markdown",
   "id": "d145152f",
   "metadata": {},
   "source": [
    "## Tracking Artifacts and Working with Files\n",
    "Modelbox can track artifacts used in training and also users can upload Files and associate them with experiments, models and model versions. For example, a user can track the dataset files used for training stored in S3 or even upload them to ModelBox. A trained model can be uploaded and then later streamed to applications for inferencing.\n"
   ]
  },
  {
   "cell_type": "code",
   "execution_count": 7,
   "id": "0a325e46",
   "metadata": {},
   "outputs": [
    {
     "data": {
      "text/plain": [
       "TrackArtifactsResponse(num_artifacts_tracked=2)"
      ]
     },
     "execution_count": 7,
     "metadata": {},
     "output_type": "execute_result"
    }
   ],
   "source": [
    "import pathlib\n",
    "file_path = str(\n",
    "            pathlib.Path(\".\").parent.resolve().joinpath(\"artifacts/test_artifact.txt\")\n",
    "        )\n",
    "artifacts = [Artifact(parent=model_version.id, mime_type=ArtifactMime.Text, path=file_path)]\n",
    "resp = experiment.track_artifacts(artifacts=artifacts)\n",
    "resp"
   ]
  },
  {
   "cell_type": "markdown",
   "id": "c029e37d",
   "metadata": {},
   "source": [
    "Modelbox is now tracking the artifact and has information about the checksum, local path of the file, etc."
   ]
  },
  {
   "cell_type": "code",
   "execution_count": 9,
   "id": "4629da68",
   "metadata": {},
   "outputs": [
    {
     "data": {
      "text/plain": [
       "[Artifact(parent='e71a25a8d3d481463c281f083f5e2671ea2896bc', path='/home/jovyan/work/tutorials/artifacts/test_artifact.txt', mime_type=<ArtifactMime.Text: 3>, checksum='0019d23bef56a136a1891211d7007f6f', id='7501e792880236c52f408070ab6934cb9f21b806')]"
      ]
     },
     "execution_count": 9,
     "metadata": {},
     "output_type": "execute_result"
    }
   ],
   "source": [
    "experiment.artifacts"
   ]
  },
  {
   "cell_type": "markdown",
   "id": "9dc63ee7",
   "metadata": {},
   "source": [
    "## Metrics \n",
    "ModelBox supports adding Metrics to experiments. Metrics can be logged to a key with values being a float, string or bytes. Metric values are associated with a step unit, and wallclock time when the metric was emitted by the application."
   ]
  },
  {
   "cell_type": "code",
   "execution_count": 24,
   "id": "4c67a930",
   "metadata": {},
   "outputs": [
    {
     "data": {
      "text/plain": [
       "{'val_accu': [MetricValue(step=1, wallclock_time=1663836663, value=0.7300000190734863),\n",
       "  MetricValue(step=2, wallclock_time=1663836663, value=0.7799999713897705)]}"
      ]
     },
     "execution_count": 24,
     "metadata": {},
     "output_type": "execute_result"
    }
   ],
   "source": [
    "import time\n",
    "experiment.log_metrics(\"val_accu\", step=1, wallclock=int(time.time()), value=0.73)\n",
    "experiment.log_metrics(\"val_accu\", step=2, wallclock=int(time.time()), value=0.78)\n",
    "\n",
    "experiment.get_all_metrics()"
   ]
  },
  {
   "cell_type": "markdown",
   "id": "d7da99f9",
   "metadata": {},
   "source": [
    "Metrics can be added to any of the modelbox objects including Model, ModelVersion."
   ]
  }
 ],
 "metadata": {
  "kernelspec": {
   "display_name": "Python 3 (ipykernel)",
   "language": "python",
   "name": "python3"
  },
  "language_info": {
   "codemirror_mode": {
    "name": "ipython",
    "version": 3
   },
   "file_extension": ".py",
   "mimetype": "text/x-python",
   "name": "python",
   "nbconvert_exporter": "python",
   "pygments_lexer": "ipython3",
   "version": "3.10.5"
  }
 },
 "nbformat": 4,
 "nbformat_minor": 5
}
