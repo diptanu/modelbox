{
 "cells": [
  {
   "cell_type": "markdown",
   "id": "a2bea8bc",
   "metadata": {},
   "source": [
    "# ModelBox SDK Tutorial with Pytorch\n",
    "This notebook demonstrates the use of the ModelBox Python SDK with PyTorch and explains the major concepts around working with models and checkpoints.\n",
    "We will train the MNIST classifier, and use ModelBox to store the checkpoints during training and also store the final model which is meant to be deployed in production."
   ]
  },
  {
   "cell_type": "markdown",
   "id": "39c5578f-dc67-422e-849e-d20791c53dbd",
   "metadata": {},
   "source": [
    "## Install ModelBox SDK"
   ]
  },
  {
   "cell_type": "code",
   "execution_count": 1,
   "id": "cf9fbb7a-7ebe-4419-ac2f-af2e27720c97",
   "metadata": {
    "tags": []
   },
   "outputs": [
    {
     "name": "stdout",
     "output_type": "stream",
     "text": [
      "\u001b[31mERROR: Could not find a version that satisfies the requirement modelbox==0.0.5 (from versions: 0.0.2, 0.0.3, 0.0.4)\u001b[0m\u001b[31m\n",
      "\u001b[0m\u001b[31mERROR: No matching distribution found for modelbox==0.0.5\u001b[0m\u001b[31m\n",
      "\u001b[0mNote: you may need to restart the kernel to use updated packages.\n"
     ]
    }
   ],
   "source": [
    "pip install modelbox==0.0.5"
   ]
  },
  {
   "cell_type": "code",
   "execution_count": 2,
   "id": "83b71c88",
   "metadata": {
    "tags": []
   },
   "outputs": [
    {
     "name": "stdout",
     "output_type": "stream",
     "text": [
      "Collecting torch\n",
      "  Downloading torch-1.12.1-cp310-cp310-manylinux1_x86_64.whl (776.3 MB)\n",
      "\u001b[2K     \u001b[90m━━━━━━━━━━━━━━━━━━━━━━━━━━━━━━━━━━━━━━━\u001b[0m \u001b[32m776.3/776.3 MB\u001b[0m \u001b[31m8.6 MB/s\u001b[0m eta \u001b[36m0:00:00\u001b[0m00:01\u001b[0m00:01\u001b[0m\n",
      "\u001b[?25hCollecting torchvision\n",
      "  Downloading torchvision-0.13.1-cp310-cp310-manylinux1_x86_64.whl (19.1 MB)\n",
      "\u001b[2K     \u001b[90m━━━━━━━━━━━━━━━━━━━━━━━━━━━━━━━━━━━━━━━━\u001b[0m \u001b[32m19.1/19.1 MB\u001b[0m \u001b[31m37.5 MB/s\u001b[0m eta \u001b[36m0:00:00\u001b[0m00:01\u001b[0m00:01\u001b[0m\n",
      "\u001b[?25hRequirement already satisfied: typing-extensions in /opt/conda/lib/python3.10/site-packages (from torch) (4.3.0)\n",
      "Requirement already satisfied: requests in /opt/conda/lib/python3.10/site-packages (from torchvision) (2.28.1)\n",
      "Requirement already satisfied: numpy in /opt/conda/lib/python3.10/site-packages (from torchvision) (1.22.4)\n",
      "Requirement already satisfied: pillow!=8.3.*,>=5.3.0 in /opt/conda/lib/python3.10/site-packages (from torchvision) (9.2.0)\n",
      "Requirement already satisfied: idna<4,>=2.5 in /opt/conda/lib/python3.10/site-packages (from requests->torchvision) (3.3)\n",
      "Requirement already satisfied: urllib3<1.27,>=1.21.1 in /opt/conda/lib/python3.10/site-packages (from requests->torchvision) (1.26.11)\n",
      "Requirement already satisfied: certifi>=2017.4.17 in /opt/conda/lib/python3.10/site-packages (from requests->torchvision) (2022.6.15)\n",
      "Requirement already satisfied: charset-normalizer<3,>=2 in /opt/conda/lib/python3.10/site-packages (from requests->torchvision) (2.1.0)\n",
      "Installing collected packages: torch, torchvision\n",
      "Successfully installed torch-1.12.1 torchvision-0.13.1\n",
      "Note: you may need to restart the kernel to use updated packages.\n"
     ]
    }
   ],
   "source": [
    "pip install torch torchvision"
   ]
  },
  {
   "cell_type": "code",
   "execution_count": 3,
   "id": "853ec0c4-2fb7-4cb0-8168-1e9100031865",
   "metadata": {
    "tags": []
   },
   "outputs": [],
   "source": [
    "import torch\n",
    "import torch.nn as nn\n",
    "import torch.optim as optim\n",
    "from torchvision import datasets, transforms\n",
    "import time\n",
    "\n",
    "# Import the ModelBox Client and initialize it\n",
    "from modelbox.modelbox import ModelBox, MLFramework, Artifact, ArtifactMime, MetricValue, Event, EventSource\n",
    "mbox = ModelBox(addr=\"172.21.0.2:8085\") # Address could be in env var as well MODELBOX_API_ADDR"
   ]
  },
  {
   "cell_type": "code",
   "execution_count": 4,
   "id": "29e5fb1e-9f8e-46ac-924e-c0e5ff798251",
   "metadata": {},
   "outputs": [],
   "source": [
    "experiment = mbox.new_experiment(name=\"cifar10\", owner=\"diptanuc@gmail.com\", namespace=\"modelbox-demos\", external_id=\"\", framework=MLFramework.PYTORCH)"
   ]
  },
  {
   "cell_type": "code",
   "execution_count": 5,
   "id": "3b95249d-cb7e-48d3-950c-c5de0f4850c6",
   "metadata": {},
   "outputs": [
    {
     "data": {
      "text/plain": [
       "UpdateMetadataResponse(updated_at=seconds: 1664159114\n",
       "nanos: 687730555\n",
       ")"
      ]
     },
     "execution_count": 5,
     "metadata": {},
     "output_type": "execute_result"
    }
   ],
   "source": [
    "data_dir = \"data/CIFAR10\"\n",
    "compressed_ds = \"./data/CIFAR10/cifar-10-python.tar.gz\"\n",
    "data_tfms = {\n",
    "    \"train\": transforms.Compose(\n",
    "        [\n",
    "            transforms.RandomHorizontalFlip(),\n",
    "            transforms.ToTensor(),\n",
    "            transforms.Normalize([0.485, 0.456, 0.406], [0.229, 0.224, 0.225]),\n",
    "        ]\n",
    "    )\n",
    "}\n",
    "\n",
    "params = {\n",
    "    \"lr\": 1e-2,\n",
    "    \"bs\": 128,\n",
    "    \"input_sz\": 32 * 32 * 3,\n",
    "    \"n_classes\": 10,\n",
    "    \"model_filename\": \"basemodel\",\n",
    "}\n",
    "# Step 2: Log config & pararameters\n",
    "experiment.update_metadata(key=\"dataset/path\", value=data_dir)\n",
    "experiment.update_metadata(key='hyperparmas', value=params)\n",
    "# TODO Log the data transformations - support tranforming python objects to class name as strings and their args as values"
   ]
  },
  {
   "cell_type": "code",
   "execution_count": 6,
   "id": "f386cc0f-cc0a-4a42-92d8-10ff8fa08db9",
   "metadata": {},
   "outputs": [],
   "source": [
    "# Model & Dataset\n",
    "class BaseModel(nn.Module):\n",
    "    def __init__(self, input_sz, hidden_dim, n_classes):\n",
    "        super(BaseModel, self).__init__()\n",
    "        self.main = nn.Sequential(\n",
    "            nn.Linear(input_sz, hidden_dim * 2),\n",
    "            nn.ReLU(),\n",
    "            nn.Linear(hidden_dim * 2, hidden_dim),\n",
    "            nn.ReLU(),\n",
    "            nn.Linear(hidden_dim, hidden_dim // 2),\n",
    "            nn.ReLU(),\n",
    "            nn.Linear(hidden_dim // 2, n_classes),\n",
    "        )\n",
    "\n",
    "    def forward(self, input):\n",
    "        x = input.view(-1, 32 * 32 * 3)\n",
    "        return self.main(x)"
   ]
  },
  {
   "cell_type": "code",
   "execution_count": 7,
   "id": "6a14c1b6-5a4b-415a-9233-e23124e8a49a",
   "metadata": {},
   "outputs": [
    {
     "name": "stdout",
     "output_type": "stream",
     "text": [
      "Files already downloaded and verified\n"
     ]
    }
   ],
   "source": [
    "experiment.log_event(Event(name=\"data_download_start\", source=EventSource(name=\"trainer\"), wallclock_time = int(time.time()) , metadata={}))\n",
    "trainset = datasets.CIFAR10(data_dir, transform=data_tfms[\"train\"], download=True)\n",
    "experiment.log_event(Event(name=\"data_download_finish\", source=EventSource(name=\"trainer\"), wallclock_time = int(time.time()) , metadata={}))\n",
    "trainloader = torch.utils.data.DataLoader(\n",
    "    trainset, batch_size=params[\"bs\"], shuffle=True\n",
    ")\n",
    "dataset_size = {\"train\": len(trainset)}\n",
    "# Log the dataset size\n",
    "experiment.update_metadata(key=\"dataset/size\", value=dataset_size)\n",
    "\n",
    "\n",
    "# Instatiate model, criterion and optimizer\n",
    "model = BaseModel(params[\"input_sz\"], params[\"input_sz\"], params[\"n_classes\"])\n",
    "criterion = nn.CrossEntropyLoss()\n",
    "optimizer = optim.SGD(model.parameters(), lr=params[\"lr\"])"
   ]
  },
  {
   "cell_type": "code",
   "execution_count": 8,
   "id": "95fbaf97-8aed-44cc-830d-8e9e4b7ae3e5",
   "metadata": {},
   "outputs": [],
   "source": [
    "for i, (x, y) in enumerate(trainloader, 0):\n",
    "    optimizer.zero_grad()\n",
    "    outputs = model.forward(x)\n",
    "    _, preds = torch.max(outputs, 1)\n",
    "    loss = criterion(outputs, y)\n",
    "    acc = (torch.sum(preds == y.data)) / len(x)\n",
    "    experiment.log_metrics(metrics={'loss': loss, 'accu': acc}, step=i, wallclock=int(time.time()))\n",
    "    loss.backward()\n",
    "    optimizer.step()"
   ]
  },
  {
   "cell_type": "code",
   "execution_count": 9,
   "id": "91804715-d434-46ca-8dd2-70c2f176e9de",
   "metadata": {},
   "outputs": [
    {
     "data": {
      "text/markdown": [
       "| Experiment    |                                          |\n",
       "|---------------|------------------------------------------|\n",
       "| id            | 92b451da8f036dd4492c5ef1f27049c84687abc4 |\n",
       "| name          | cifar10                                  |\n",
       "| owner         | diptanuc@gmail.com                       |\n",
       "| namespace     | modelbox-demos                           |\n",
       "| creation time | seconds: 1664159114                      |\n",
       "| updated time  | seconds: 1664159114                      |\n",
       "##### Metadata\n",
       "|              |                                                                                                 |\n",
       "|--------------|-------------------------------------------------------------------------------------------------|\n",
       "| hyperparmas  | {'bs': 128.0, 'input_sz': 3072.0, 'n_classes': 10.0, 'model_filename': 'basemodel', 'lr': 0.01} |\n",
       "| dataset/path | data/CIFAR10                                                                                    |\n",
       "| dataset/size | {'train': 50000.0}                                                                              |"
      ],
      "text/plain": [
       "<IPython.core.display.Markdown object>"
      ]
     },
     "execution_count": 9,
     "metadata": {},
     "output_type": "execute_result"
    }
   ],
   "source": [
    "from modelbox.notebook_widgets import ExperimentDisplay\n",
    "ed = ExperimentDisplay(experiment)\n",
    "ed.info()"
   ]
  },
  {
   "cell_type": "code",
   "execution_count": 10,
   "id": "3303174b-b249-40d1-a7f7-18d6601e6e09",
   "metadata": {},
   "outputs": [
    {
     "data": {
      "image/png": "[encoded data removed]",
      "text/plain": [
       "<Figure size 432x288 with 2 Axes>"
      ]
     },
     "metadata": {
      "needs_background": "light"
     },
     "output_type": "display_data"
    }
   ],
   "source": [
    "ed.metrics()"
   ]
  },
  {
   "cell_type": "code",
   "execution_count": 11,
   "id": "11789614-5d35-4eca-aa54-e7099fff9548",
   "metadata": {},
   "outputs": [
    {
     "data": {
      "text/markdown": [
       "| wallclock           | event                | source   |\n",
       "|---------------------|----------------------|----------|\n",
       "| seconds: 1664159114 | data_download_start  | trainer  |\n",
       "| seconds: 1664159115 | data_download_finish | trainer  |"
      ],
      "text/plain": [
       "<IPython.core.display.Markdown object>"
      ]
     },
     "execution_count": 11,
     "metadata": {},
     "output_type": "execute_result"
    }
   ],
   "source": [
    "ed.events()"
   ]
  }
 ],
 "metadata": {
  "kernelspec": {
   "display_name": "Python 3 (ipykernel)",
   "language": "python",
   "name": "python3"
  },
  "language_info": {
   "codemirror_mode": {
    "name": "ipython",
    "version": 3
   },
   "file_extension": ".py",
   "mimetype": "text/x-python",
   "name": "python",
   "nbconvert_exporter": "python",
   "pygments_lexer": "ipython3",
   "version": "3.10.5"
  },
  "toc": {
   "base_numbering": 1,
   "nav_menu": {},
   "number_sections": true,
   "sideBar": true,
   "skip_h1_title": false,
   "title_cell": "Table of Contents",
   "title_sidebar": "Contents",
   "toc_cell": false,
   "toc_position": {},
   "toc_section_display": true,
   "toc_window_display": false
  }
 },
 "nbformat": 4,
 "nbformat_minor": 5
}
